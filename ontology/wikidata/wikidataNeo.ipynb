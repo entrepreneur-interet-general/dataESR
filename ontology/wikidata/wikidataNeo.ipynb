{
 "cells": [
  {
   "cell_type": "code",
   "execution_count": 19,
   "metadata": {},
   "outputs": [],
   "source": [
    "#coding: utf-8\n",
    "from pymongo import MongoClient\n",
    "from py2neo import Graph\n",
    "import re\n",
    "from pprint import pprint\n",
    "client = MongoClient('10.243.98.93', 27017)\n",
    "db = client.wikidata\n",
    "coll = db.science_test"
   ]
  },
  {
   "cell_type": "code",
   "execution_count": 20,
   "metadata": {},
   "outputs": [],
   "source": [
    "from py2neo import Graph\n",
    "from py2neo import Node\n",
    "\n",
    "graph = Graph(host='10.243.98.93', user='neo4j', password='admin')\n",
    "\n",
    "nodes = {}\n",
    "\n",
    "for n in coll.find():\n",
    "    nodes[n['_id']] = Node('Concept',\n",
    "                          name=n['label'])"
   ]
  },
  {
   "cell_type": "code",
   "execution_count": 21,
   "metadata": {
    "scrolled": false
   },
   "outputs": [],
   "source": [
    "from py2neo import Relationship\n",
    "\n",
    "\n",
    "for l in nodes.values():\n",
    "    graph.create(l)\n",
    "\n",
    "for n in coll.find():\n",
    "    if n.get('family'):\n",
    "        if n['family'].get('P31'):\n",
    "                for v in n['family']['P31']:\n",
    "                    if v['id'] in nodes and n['_id'] in nodes:\n",
    "                        graph.create(Relationship(nodes[v['id']], 'P31', nodes[n['_id']]))\n",
    "        if n['family'].get('P279'):\n",
    "                for v in n['family']['P279']:\n",
    "                    if v['id'] in nodes and n['_id'] in nodes:\n",
    "                        graph.create(Relationship(nodes[v['id']], 'P279', nodes[n['_id']]))"
   ]
  },
  {
   "cell_type": "markdown",
   "metadata": {},
   "source": [
    "Pour trouver les catégories associées à une entité wikidata :"
   ]
  },
  {
   "cell_type": "code",
   "execution_count": 36,
   "metadata": {},
   "outputs": [
    {
     "name": "stdout",
     "output_type": "stream",
     "text": [
      "u'bio\\xe9thique'\n"
     ]
    }
   ],
   "source": [
    "import pywikibot\n",
    "from pprint import pprint\n",
    "site = pywikibot.Site(\"wikidata\", \"wikidata\")\n",
    "repo = site.data_repository()\n",
    "\n",
    "item = pywikibot.ItemPage(repo, 'Q194294')\n",
    "j = item.get()\n",
    "pprint(j['labels']['fr'])"
   ]
  },
  {
   "cell_type": "code",
   "execution_count": 43,
   "metadata": {
    "scrolled": true
   },
   "outputs": [
    {
     "name": "stdout",
     "output_type": "stream",
     "text": [
      "1\n"
     ]
    },
    {
     "data": {
      "text/plain": [
       "u'Q6445103'"
      ]
     },
     "execution_count": 43,
     "metadata": {},
     "output_type": "execute_result"
    }
   ],
   "source": [
    "print(len(j['claims']['P910']))\n",
    "j['claims']['P910'][0].getTarget().id"
   ]
  },
  {
   "cell_type": "code",
   "execution_count": 111,
   "metadata": {},
   "outputs": [],
   "source": [
    "name = pywikibot.ItemPage(repo, 'Q6445103').get()['labels']['en']"
   ]
  },
  {
   "cell_type": "markdown",
   "metadata": {},
   "source": [
    "Pour trouver les sous catégories : "
   ]
  },
  {
   "cell_type": "code",
   "execution_count": 112,
   "metadata": {
    "scrolled": false
   },
   "outputs": [
    {
     "name": "stderr",
     "output_type": "stream",
     "text": [
      "WARNING: /Users/MACSAMI/.pyenv/versions/2.7.14/envs/jupyter/lib/python2.7/site-packages/ipykernel_launcher.py:2: DeprecationWarning: pywikibot.page.Category.subcategoriesList is deprecated; use list(Category.subcategories(...)) instead.\n",
      "  \n",
      "\n"
     ]
    },
    {
     "data": {
      "text/plain": [
       "[Category(Category:Animal testing),\n",
       " Category(Category:Animal welfare),\n",
       " Category(Category:Autism rights movement),\n",
       " Category(Category:Bioethicists),\n",
       " Category(Category:Bioethics journals),\n",
       " Category(Category:Bioethics research organizations),\n",
       " Category(Category:Biopunk),\n",
       " Category(Category:Biosecurity),\n",
       " Category(Category:Eugenics),\n",
       " Category(Category:Genetic engineering),\n",
       " Category(Category:Hastings Center Fellows),\n",
       " Category(Category:Health law),\n",
       " Category(Category:History of bioethics),\n",
       " Category(Category:Medical ethics),\n",
       " Category(Category:Philosophy of sexuality)]"
      ]
     },
     "execution_count": 112,
     "metadata": {},
     "output_type": "execute_result"
    }
   ],
   "source": [
    "cat = pywikibot.Category(pywikibot.Site('en', 'wikipedia'), name)\n",
    "cat.subcategoriesList()"
   ]
  },
  {
   "cell_type": "code",
   "execution_count": 131,
   "metadata": {
    "scrolled": false
   },
   "outputs": [
    {
     "name": "stdout",
     "output_type": "stream",
     "text": [
      "1439\n"
     ]
    }
   ],
   "source": [
    "cs = pywikibot.Category(pywikibot.Site('en', 'wikipedia'), 'Category:Scientific_disciplines')\n",
    "count = 0\n",
    "for i in cs.subcategories(recurse=3):\n",
    "    count += 1\n",
    "print(count)"
   ]
  },
  {
   "cell_type": "code",
   "execution_count": 138,
   "metadata": {},
   "outputs": [],
   "source": [
    "import pywikibot\n",
    "import os\n",
    "import codecs\n",
    "import pickle\n",
    "import re\n",
    "\n",
    "from pywikibot.tools import open_archive\n",
    "from pywikibot import config, i18n\n",
    "\n",
    "from py2neo import Graph, Node, Relationship\n",
    "\n",
    "class CategoryDatabase(object):\n",
    "\n",
    "    \"\"\"Temporary database saving pages and subcategories for each category.\n",
    "    This prevents loading the category pages over and over again.\n",
    "    \"\"\"\n",
    "\n",
    "    def __init__(self, rebuild=False, filename='category.dump.bz2'):\n",
    "        \"\"\"Initializer.\"\"\"\n",
    "        if not os.path.isabs(filename):\n",
    "            filename = config.datafilepath(filename)\n",
    "        self.filename = filename\n",
    "        if rebuild:\n",
    "            self.rebuild()\n",
    "\n",
    "    @property\n",
    "    def is_loaded(self):\n",
    "        \"\"\"Return whether the contents have been loaded.\"\"\"\n",
    "        return hasattr(self, 'catContentDB') and hasattr(self, 'superclassDB')\n",
    "\n",
    "    def _load(self):\n",
    "        if not self.is_loaded:\n",
    "            try:\n",
    "                if config.verbose_output:\n",
    "                    pywikibot.output('Reading dump from %s'\n",
    "                                     % config.shortpath(self.filename))\n",
    "                with open_archive(self.filename, 'rb') as f:\n",
    "                    databases = pickle.load(f)\n",
    "                # keys are categories, values are 2-tuples with lists as\n",
    "                # entries.\n",
    "                self.catContentDB = databases['catContentDB']\n",
    "                # like the above, but for supercategories\n",
    "                self.superclassDB = databases['superclassDB']\n",
    "                del databases\n",
    "            except Exception:\n",
    "                # If something goes wrong, just rebuild the database\n",
    "                self.rebuild()\n",
    "\n",
    "    def rebuild(self):\n",
    "        \"\"\"Rebuild the dabatase.\"\"\"\n",
    "        self.catContentDB = {}\n",
    "        self.superclassDB = {}\n",
    "\n",
    "    def getSubcats(self, supercat):\n",
    "        \"\"\"Return the list of subcategories for a given supercategory.\n",
    "        Saves this list in a temporary database so that it won't be loaded from\n",
    "        the server next time it's required.\n",
    "        \"\"\"\n",
    "        self._load()\n",
    "        # if we already know which subcategories exist here\n",
    "        if supercat in self.catContentDB:\n",
    "            return self.catContentDB[supercat][0]\n",
    "        else:\n",
    "            subcatset = set(supercat.subcategories())\n",
    "            articleset = set(supercat.articles())\n",
    "            # add to dictionary\n",
    "            self.catContentDB[supercat] = (subcatset, articleset)\n",
    "            return subcatset\n",
    "\n",
    "    def getArticles(self, cat):\n",
    "        \"\"\"Return the list of pages for a given category.\n",
    "        Saves this list in a temporary database so that it won't be loaded from\n",
    "        the server next time it's required.\n",
    "        \"\"\"\n",
    "        self._load()\n",
    "        # if we already know which articles exist here\n",
    "        if cat in self.catContentDB:\n",
    "            return self.catContentDB[cat][1]\n",
    "        else:\n",
    "            subcatset = set(cat.subcategories())\n",
    "            articleset = set(cat.articles())\n",
    "            # add to dictionary\n",
    "            self.catContentDB[cat] = (subcatset, articleset)\n",
    "            return articleset\n",
    "\n",
    "    def getSupercats(self, subcat):\n",
    "        \"\"\"Return the supercategory (or a set of) for a given subcategory.\"\"\"\n",
    "        self._load()\n",
    "        # if we already know which subcategories exist here\n",
    "        if subcat in self.superclassDB:\n",
    "            return self.superclassDB[subcat]\n",
    "        else:\n",
    "            supercatset = set(subcat.categories())\n",
    "            # add to dictionary\n",
    "            self.superclassDB[subcat] = supercatset\n",
    "            return supercatset\n",
    "\n",
    "    def dump(self, filename=None):\n",
    "        \"\"\"Save the dictionaries to disk if not empty.\n",
    "        Pickle the contents of the dictionaries superclassDB and catContentDB\n",
    "        if at least one is not empty. If both are empty, removes the file from\n",
    "        the disk.\n",
    "        If the filename is None, it'll use the filename determined in __init__.\n",
    "        \"\"\"\n",
    "        if filename is None:\n",
    "            filename = self.filename\n",
    "        elif not os.path.isabs(filename):\n",
    "            filename = config.datafilepath(filename)\n",
    "        if self.is_loaded and (self.catContentDB or self.superclassDB):\n",
    "            pywikibot.output(u'Dumping to %s, please wait...'\n",
    "                             % config.shortpath(filename))\n",
    "            databases = {\n",
    "                'catContentDB': self.catContentDB,\n",
    "                'superclassDB': self.superclassDB\n",
    "            }\n",
    "            # store dump to disk in binary format\n",
    "            with open_archive(filename, 'wb') as f:\n",
    "                try:\n",
    "                    pickle.dump(databases, f, protocol=config.pickle_protocol)\n",
    "                except pickle.PicklingError:\n",
    "                    pass\n",
    "        else:\n",
    "            try:\n",
    "                os.remove(filename)\n",
    "            except EnvironmentError:\n",
    "                pass\n",
    "            else:\n",
    "                pywikibot.output(u'Database is empty. %s removed'\n",
    "                                 % config.shortpath(filename))\n",
    "\n",
    "    def dump_neo(self):\n",
    "        graph = Graph(host='10.243.98.93', user='neo4j', password='admin')\n",
    "\n",
    "class CategoryTreeRobot(object):\n",
    "\n",
    "    \"\"\"Robot to create tree overviews of the category structure.\n",
    "    Parameters:\n",
    "        * catTitle - The category which will be the tree's root.\n",
    "        * catDB    - A CategoryDatabase object\n",
    "        * maxDepth - The limit beyond which no subcategories will be listed.\n",
    "                     This also guarantees that loops in the category structure\n",
    "                     won't be a problem.\n",
    "        * filename - The textfile where the tree should be saved; None to print\n",
    "                     the tree to stdout.\n",
    "    \"\"\"\n",
    "\n",
    "    def __init__(self, catTitle, catDB, filename=None, maxDepth=10, lang='en', source='wikipedia'):\n",
    "        \"\"\"Initializer.\"\"\"\n",
    "        self.catTitle = catTitle\n",
    "        self.catDB = catDB\n",
    "        if filename and not os.path.isabs(filename):\n",
    "            filename = config.datafilepath(filename)\n",
    "        self.filename = filename\n",
    "        self.maxDepth = maxDepth\n",
    "        self.site = pywikibot.Site(lang, source)\n",
    "\n",
    "    def treeview(self, cat, currentDepth=0, parent=None):\n",
    "        \"\"\"Return a tree view of all subcategories of cat.\n",
    "        The multi-line string contains a tree view of all subcategories of cat,\n",
    "        up to level maxDepth. Recursively calls itself.\n",
    "        Parameters:\n",
    "            * cat - the Category of the node we're currently opening\n",
    "            * currentDepth - the current level in the tree (for recursion)\n",
    "            * parent - the Category of the category we're coming from\n",
    "        \"\"\"\n",
    "        result = u'#' * currentDepth\n",
    "        if currentDepth > 0:\n",
    "            result += u' '\n",
    "        result += re.search('Category:(.*)', cat.title()).group(1)\n",
    "        result += ' (%d)' % cat.categoryinfo['pages']\n",
    "        if currentDepth < self.maxDepth // 2:\n",
    "            # noisy dots\n",
    "            pywikibot.output('.', newline=False)\n",
    "        # Create a list of other cats which are supercats of the current cat\n",
    "        supercat_names = [re.search('Category:(.*)', super_cat.title()).group(1)\n",
    "                          for super_cat in self.catDB.getSupercats(cat)\n",
    "                          if super_cat != parent]\n",
    "        if supercat_names:\n",
    "            # print this list, separated with commas, using translations\n",
    "            # given in 'category-also-in'\n",
    "            comma = self.site.mediawiki_message('comma-separator')\n",
    "            result += ' ' + comma.join(supercat_names)\n",
    "        del supercat_names\n",
    "        result += '\\n'\n",
    "\n",
    "        if currentDepth < self.maxDepth:\n",
    "            for subcat in self.catDB.getSubcats(cat):\n",
    "                # recurse into subdirectories\n",
    "                result += self.treeview(subcat, currentDepth + 1, parent=cat)\n",
    "        elif self.catDB.getSubcats(cat):\n",
    "            # show that there are more categories beyond the depth limit\n",
    "            result += '#' * (currentDepth + 1) + ' [...]\\n'\n",
    "        return result\n",
    "\n",
    "    def run(self):\n",
    "        \"\"\"Handle the multi-line string generated by treeview.\n",
    "        After string was generated by treeview it is either printed to the\n",
    "        console or saved it to a file.\n",
    "        \"\"\"\n",
    "        cat = pywikibot.Category(self.site, self.catTitle)\n",
    "        pywikibot.output('Generating tree...', newline=False)\n",
    "        tree = self.treeview(cat)\n",
    "        pywikibot.output(u'')\n",
    "        if self.filename:\n",
    "            pywikibot.output(u'Saving results in %s' % self.filename)\n",
    "            with codecs.open(self.filename, 'a', 'utf-8') as f:\n",
    "                f.write(tree)\n",
    "        else:\n",
    "            pywikibot.stdout(tree)"
   ]
  },
  {
   "cell_type": "code",
   "execution_count": 139,
   "metadata": {
    "scrolled": true
   },
   "outputs": [
    {
     "name": "stderr",
     "output_type": "stream",
     "text": [
      "Generating tree..."
     ]
    },
    {
     "name": "stdout",
     "output_type": "stream",
     "text": [
      "Computer science (44) Categories requiring diffusion, Electronic engineering, Electrical engineering, Computer engineering, Computing\n",
      "# Computational fields of study (100) Systems thinking, Applied mathematics, Applied disciplines, Futurology, Systems theory, Theories of deduction, Computing and society, Knowledge representation, Big data\n",
      "## [...]\n",
      "# Areas of computer science (3) Subfields by academic discipline, Commons category with local link different than on Wikidata\n",
      "## [...]\n",
      "# Computational geometry (62) Computational fields of study, Geometry, Computational mathematics\n",
      "## [...]\n",
      "# Unsolved problems in computer science (24) Theoretical computer science, Unsolved problems in mathematics, Scientific problems\n",
      "## [...]\n",
      "# Philosophy of computer science (5) Philosophy of technology, Philosophy of mathematics\n",
      "## [...]\n",
      "# Computer science stubs (689) Stub categories, Science stubs, Computing stubs\n",
      "## [...]\n",
      "# Computer scientists (113) Mathematicians by field, Computer specialists by field, Scholars and academics by subject\n",
      "## [...]\n",
      "# Computer science literature (5) Academic works about science\n",
      "## [...]\n",
      "# Computer science by year (0) Years in science, History of computing, Technology by year, History of computer science\n",
      "## [...]\n",
      "# History of computer science (10) History of computing, History of mathematics\n",
      "## [...]\n",
      "# String (computer science) (27) Data types, Sequences and series\n",
      "## [...]\n",
      "# Computer science by country (0) Science and technology by country, Container categories\n",
      "## [...]\n",
      "# Computer science awards (76) Computer-related awards, Science and technology awards\n",
      "## [...]\n",
      "# Software (32) Mass media, Computing, Intellectual works, Categories requiring diffusion, Digital media, Categories which are included in the JEL classification codes\n",
      "## [...]\n",
      "# Wikipedia books on computer science (25) Wikipedia books on computing, Wikipedia books on applied sciences, Wikipedia books on formal sciences\n",
      "# Computer science conferences (130) Computer science organizations, Academic conferences, Computer conferences, Science conferences\n",
      "## [...]\n",
      "# Computer science organizations (77) Science organizations by topic, Information technology organizations\n",
      "## [...]\n",
      "# Computer science education (77) Science education, Computer science organizations, Education by subject\n",
      "## [...]\n",
      "\n"
     ]
    },
    {
     "name": "stderr",
     "output_type": "stream",
     "text": [
      "\n"
     ]
    }
   ],
   "source": [
    "catDB = CategoryDatabase(rebuild=True)\n",
    "bot = CategoryTreeRobot('Computer_science', catDB, maxDepth=1)\n",
    "bot.run()"
   ]
  },
  {
   "cell_type": "code",
   "execution_count": 140,
   "metadata": {},
   "outputs": [
    {
     "data": {
      "text/plain": [
       "{Category(Category:Areas of computer science): {Category(Category:Commons category with local link different than on Wikidata),\n",
       "  Category(Category:Computer science),\n",
       "  Category(Category:Subfields by academic discipline)},\n",
       " Category(Category:Computational fields of study): {Category(Category:Applied disciplines),\n",
       "  Category(Category:Applied mathematics),\n",
       "  Category(Category:Big data),\n",
       "  Category(Category:Computer science),\n",
       "  Category(Category:Computing and society),\n",
       "  Category(Category:Futurology),\n",
       "  Category(Category:Knowledge representation),\n",
       "  Category(Category:Systems theory),\n",
       "  Category(Category:Systems thinking),\n",
       "  Category(Category:Theories of deduction)},\n",
       " Category(Category:Computational geometry): {Category(Category:Computational fields of study),\n",
       "  Category(Category:Computational mathematics),\n",
       "  Category(Category:Computer science),\n",
       "  Category(Category:Geometry)},\n",
       " Category(Category:Computer science): {Category(Category:Categories requiring diffusion),\n",
       "  Category(Category:Computer engineering),\n",
       "  Category(Category:Computing),\n",
       "  Category(Category:Electrical engineering),\n",
       "  Category(Category:Electronic engineering)},\n",
       " Category(Category:Computer science awards): {Category(Category:Computer science),\n",
       "  Category(Category:Computer-related awards),\n",
       "  Category(Category:Science and technology awards)},\n",
       " Category(Category:Computer science by country): {Category(Category:Computer science),\n",
       "  Category(Category:Container categories),\n",
       "  Category(Category:Science and technology by country)},\n",
       " Category(Category:Computer science by year): {Category(Category:Computer science),\n",
       "  Category(Category:History of computer science),\n",
       "  Category(Category:History of computing),\n",
       "  Category(Category:Technology by year),\n",
       "  Category(Category:Years in science)},\n",
       " Category(Category:Computer science conferences): {Category(Category:Academic conferences),\n",
       "  Category(Category:Computer conferences),\n",
       "  Category(Category:Computer science),\n",
       "  Category(Category:Computer science organizations),\n",
       "  Category(Category:Science conferences)},\n",
       " Category(Category:Computer science education): {Category(Category:Computer science),\n",
       "  Category(Category:Computer science organizations),\n",
       "  Category(Category:Education by subject),\n",
       "  Category(Category:Science education)},\n",
       " Category(Category:Computer science literature): {Category(Category:Academic works about science),\n",
       "  Category(Category:Computer science)},\n",
       " Category(Category:Computer science organizations): {Category(Category:Computer science),\n",
       "  Category(Category:Information technology organizations),\n",
       "  Category(Category:Science organizations by topic)},\n",
       " Category(Category:Computer science stubs): {Category(Category:Computer science),\n",
       "  Category(Category:Computing stubs),\n",
       "  Category(Category:Science stubs),\n",
       "  Category(Category:Stub categories)},\n",
       " Category(Category:Computer scientists): {Category(Category:Computer science),\n",
       "  Category(Category:Computer specialists by field),\n",
       "  Category(Category:Mathematicians by field),\n",
       "  Category(Category:Scholars and academics by subject)},\n",
       " Category(Category:History of computer science): {Category(Category:Computer science),\n",
       "  Category(Category:History of computing),\n",
       "  Category(Category:History of mathematics)},\n",
       " Category(Category:Philosophy of computer science): {Category(Category:Computer science),\n",
       "  Category(Category:Philosophy of mathematics),\n",
       "  Category(Category:Philosophy of technology)},\n",
       " Category(Category:Software): {Category(Category:Categories requiring diffusion),\n",
       "  Category(Category:Categories which are included in the JEL classification codes),\n",
       "  Category(Category:Computer science),\n",
       "  Category(Category:Computing),\n",
       "  Category(Category:Digital media),\n",
       "  Category(Category:Intellectual works),\n",
       "  Category(Category:Mass media)},\n",
       " Category(Category:String (computer science)): {Category(Category:Computer science),\n",
       "  Category(Category:Data types),\n",
       "  Category(Category:Sequences and series)},\n",
       " Category(Category:Unsolved problems in computer science): {Category(Category:Computer science),\n",
       "  Category(Category:Scientific problems),\n",
       "  Category(Category:Theoretical computer science),\n",
       "  Category(Category:Unsolved problems in mathematics)},\n",
       " Category(Category:Wikipedia books on computer science): {Category(Category:Computer science),\n",
       "  Category(Category:Wikipedia books on applied sciences),\n",
       "  Category(Category:Wikipedia books on computing),\n",
       "  Category(Category:Wikipedia books on formal sciences)}}"
      ]
     },
     "execution_count": 140,
     "metadata": {},
     "output_type": "execute_result"
    }
   ],
   "source": [
    "catDB.superclassDB"
   ]
  }
 ],
 "metadata": {
  "kernelspec": {
   "display_name": "Python 2",
   "language": "python",
   "name": "python2"
  },
  "language_info": {
   "codemirror_mode": {
    "name": "ipython",
    "version": 2
   },
   "file_extension": ".py",
   "mimetype": "text/x-python",
   "name": "python",
   "nbconvert_exporter": "python",
   "pygments_lexer": "ipython2",
   "version": "2.7.14"
  }
 },
 "nbformat": 4,
 "nbformat_minor": 2
}
