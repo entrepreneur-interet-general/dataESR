{
 "cells": [
  {
   "cell_type": "code",
   "execution_count": 17,
   "metadata": {
    "scrolled": true
   },
   "outputs": [],
   "source": [
    "import gensim \n",
    "import numpy as np\n",
    "dictFileName = 'wiki-news-300d-1M.vec'\n",
    "embedding_dict = gensim.models.KeyedVectors.load_word2vec_format(dictFileName+\".bin\", binary=True)\n",
    "\n",
    "from gensim.models import TfidfModel\n",
    "from gensim.corpora import Dictionary, MmCorpus\n",
    "\n",
    "tf_idf_model = TfidfModel.load('/mnt/disk/wikipedia/wikipedia.tfidf_model')\n",
    "dct = Dictionary.load_from_text('/mnt/disk/wikipedia/wikipedia_wordids.txt.bz2')\n",
    "corpus = MmCorpus('/mnt/disk/wikipedia/wikipedia_bow.mm')"
   ]
  },
  {
   "cell_type": "code",
   "execution_count": 2,
   "metadata": {},
   "outputs": [],
   "source": [
    "import io\n",
    "\n",
    "def load_vectors(fname):\n",
    "    fin = io.open(fname, 'r', encoding='utf-8', newline='\\n', errors='ignore')\n",
    "    n, d = map(int, fin.readline().split())\n",
    "    data = {}\n",
    "    for line in fin:\n",
    "        tokens = line.rstrip().split(' ')\n",
    "        data[tokens[0]] = map(float, tokens[1:])\n",
    "    return data\n",
    "\n",
    "w2v_fasttext = load_vectors('wiki-news-300d-1M.vec')"
   ]
  },
  {
   "cell_type": "code",
   "execution_count": 34,
   "metadata": {
    "scrolled": true
   },
   "outputs": [
    {
     "name": "stderr",
     "output_type": "stream",
     "text": [
      "\n",
      "  0%|          | 0/4524343 [00:00<?, ?it/s]\u001b[A\n",
      "  0%|          | 1/4524343 [00:00<616:29:17,  2.04it/s]\u001b[A\n",
      "  0%|          | 5/4524343 [00:00<445:26:14,  2.82it/s]\u001b[A\n",
      "  0%|          | 7/4524343 [00:00<339:07:31,  3.71it/s]\u001b[A\n",
      "  0%|          | 10/4524343 [00:00<252:16:30,  4.98it/s]\u001b[A\n",
      "  0%|          | 16/4524343 [00:01<185:10:46,  6.79it/s]\u001b[A\n",
      "  0%|          | 20/4524343 [00:01<140:08:54,  8.97it/s]\u001b[A\n",
      "  0%|          | 23/4524343 [00:01<111:31:29, 11.27it/s]\u001b[A\n",
      "  0%|          | 29/4524343 [00:01<86:34:27, 14.52it/s] \u001b[A\n",
      "  0%|          | 33/4524343 [00:01<72:41:08, 17.29it/s]\u001b[A\n",
      "  0%|          | 37/4524343 [00:01<62:14:23, 20.19it/s]\u001b[A\n",
      "  0%|          | 41/4524343 [00:01<57:38:55, 21.80it/s]\u001b[A\n",
      "  0%|          | 45/4524343 [00:01<49:47:25, 25.24it/s]\u001b[A\n",
      "  0%|          | 50/4524343 [00:02<50:53:24, 24.70it/s]\u001b[A"
     ]
    }
   ],
   "source": [
    "import tqdm\n",
    "\n",
    "def map_w2v(w):\n",
    "    if w in w2v_fasttext:\n",
    "        return w2v_fasttext[w]\n",
    "    else:\n",
    "        return np.zeros(300)\n",
    "        \n",
    "def build_doc_emb(dictionary, w2v, corpus_wiki, tfidf_model):\n",
    "    init_stack = np.empty((0,300), float)\n",
    "    pbar = tqdm.tqdm(total=len(corpus_wiki))\n",
    "    for i in range(len(corpus)):\n",
    "        words = map(lambda x: dictionary[x], [j[0] for j in corpus_wiki[i]])\n",
    "        w2v_corpus = map(map_w2v, words)\n",
    "        tf_idf_weights = [x[1] for x in tfidf_model[corpus_wiki[i]]]\n",
    "        mean_emb = np.mean([\n",
    "            np.dot(tf_idf_weights[j], w2v_corpus[j]) for j in range(len(w2v_corpus))], axis=0)\n",
    "        init_stack = np.vstack([init_stack, mean_emb])\n",
    "        pbar.update()\n",
    "    return init_stack\n",
    "\n",
    "matrix = build_doc_emb(dct, w2v_fasttext, corpus, tf_idf_model)"
   ]
  },
  {
   "cell_type": "code",
   "execution_count": null,
   "metadata": {},
   "outputs": [],
   "source": [
    "np.save('/mnt/wiki_mean_tfidf_weighted_fasttext_.npy', matrix)"
   ]
  }
 ],
 "metadata": {
  "kernelspec": {
   "display_name": "Python 2",
   "language": "python",
   "name": "python2"
  },
  "language_info": {
   "codemirror_mode": {
    "name": "ipython",
    "version": 2
   },
   "file_extension": ".py",
   "mimetype": "text/x-python",
   "name": "python",
   "nbconvert_exporter": "python",
   "pygments_lexer": "ipython2",
   "version": "2.7.12"
  }
 },
 "nbformat": 4,
 "nbformat_minor": 2
}
